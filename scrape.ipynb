{
 "cells": [
  {
   "cell_type": "code",
   "execution_count": 2,
   "metadata": {},
   "outputs": [],
   "source": [
    "import pandas as pd\n",
    "import time\n",
    "import re"
   ]
  },
  {
   "cell_type": "code",
   "execution_count": 3,
   "metadata": {},
   "outputs": [],
   "source": [
    "from bs4 import BeautifulSoup\n",
    "from selenium import webdriver\n",
    "from selenium.webdriver.chrome.service import Service\n",
    "from webdriver_manager.chrome import ChromeDriverManager\n",
    "from selenium.webdriver.support.ui import WebDriverWait\n",
    "from selenium.webdriver.support import expected_conditions as EC\n",
    "from selenium.common.exceptions import TimeoutException"
   ]
  },
  {
   "cell_type": "code",
   "execution_count": 16,
   "metadata": {},
   "outputs": [
    {
     "data": {
      "text/plain": [
       "18.0"
      ]
     },
     "execution_count": 16,
     "metadata": {},
     "output_type": "execute_result"
    }
   ],
   "source": [
    "108/6"
   ]
  },
  {
   "cell_type": "code",
   "execution_count": 4,
   "metadata": {},
   "outputs": [],
   "source": [
    "# driver = webdriver.Chrome(service = Service(ChromeDriverManager().install()))\n",
    "driver = webdriver.Chrome()\n",
    "\n",
    "url = \"https://www.airbnb.com/s/Thessaloniki--Greece/homes?tab_id=home_tab&flexible_trip_lengths%5B%5D=one_week&refinement_paths%5B%5D=%2Fhomes&place_id=ChIJ7eAoFPQ4qBQRqXTVuBXnugk&query=Thessaloniki%2C%20Greece&date_picker_type=calendar&search_type=user_map_move&price_filter_input_type=0&ne_lat=40.66256734970964&ne_lng=23.003752862853986&sw_lat=40.59051931897441&sw_lng=22.892087137145978&zoom=13&search_by_map=true&federated_search_session_id=1ed21e1c-0c5e-4529-ab84-267361eac02b&pagination_search=true&items_offset={offset}&section_offset=2\"\n",
    "\n",
    "data = []\n",
    "for offset in range(0, 120, 20):\n",
    "    driver.get(url.format(offset = offset))\n",
    "    driver.maximize_window()\n",
    "    time.sleep(2)\n",
    "    # soup1 = BeautifulSoup(driver.page_source, \"lxml\")\n",
    "    soup1 = BeautifulSoup(driver.page_source, \"html.parser\")\n",
    "\n",
    "    detailed_pages = []\n",
    "    for i in soup1.findAll(\"meta\", {\"itemprop\": \"url\"}):\n",
    "        detailed_pages.append(i.get(\"content\"))\n",
    "\n",
    "    for page in detailed_pages:\n",
    "        driver.get(f\"https://{page}\")\n",
    "        time.sleep(2)\n",
    "        # soup2 = BeautifulSoup(driver.page_source, \"lxml\")\n",
    "        soup2 = BeautifulSoup(driver.page_source, \"html.parser\")\n",
    "        rooms =  soup2.find(\"ol\", {\"class\": \"lgx66tx dir dir-ltr\"}).get_text() if soup2.find(\"ol\", {\"class\": \"lgx66tx dir dir-ltr\"}) else None\n",
    "        price = soup2.find(\"span\", {\"class\": \"_tyxjp1\"}).get_text() if soup2.find(\"span\", {\"class\": \"_tyxjp1\"}) else None\n",
    "        rating = soup2.find(\"span\",{\"class\":\"_17p6nbba\"}).get_text() if soup2.find(\"span\",{\"class\":\"_17p6nbba\"}) else None\n",
    "        location = soup2.find(\"span\",{\"class\":\"_9xiloll\"}).get_text() if soup2.find(\"span\",{\"class\":\"_9xiloll\"}) else None\n",
    "\n",
    "        # host details\n",
    "        # host_details = []\n",
    "        # host_features = soup2.findAll(\"span\", {\"class\": \"l1dfad8f dir dir-ltr\"}) if soup2.findAll(\"span\",{\"class\":\"l1dfad8f dir dir-ltr\"}) else []\n",
    "        # from pdb import set_trace\n",
    "        # set_trace()\n",
    "        # for host_feature in host_features:\n",
    "        #     # print(host_feature.get_text())\n",
    "        #     host_details.append(host_feature.get_text())\n",
    "\n",
    "        # amenities\n",
    "        driver.get(f\"https://{page.split('?')[0]}/amenities?{page.split('?')[1]}\")\n",
    "        time.sleep(3)\n",
    "        # soup3 = BeautifulSoup(driver.page_source, \"lxml\")\n",
    "        soup3 = BeautifulSoup(driver.page_source, \"html.parser\")\n",
    "        amenities = soup3.findAll(\"div\", {\"class\": \"twad414 dir dir-ltr\"}) if soup3.findAll(\"div\", {\"class\": \"twad414 dir dir-ltr\"}) else []\n",
    "        place_offers = []\n",
    "        for amenity in amenities:\n",
    "            place_offers.append(amenity.get_text())\n",
    "\n",
    "        # reviews\n",
    "        driver.get(f\"https://{page.split('?')[0]}/reviews?{page.split('?')[1]}\")\n",
    "        time.sleep(2)\n",
    "        reviews_soup = BeautifulSoup(driver.page_source, \"html.parser\")\n",
    "        reviews = reviews_soup.findAll(\"div\", {\"class\": \"_yorrb7h\"}) if reviews_soup.findAll(\"div\", {\"class\": \"_yorrb7h\"}) else []\n",
    "        detail_ratings = []\n",
    "        for review in reviews:\n",
    "            detail_ratings.append(review.get_text())\n",
    "\n",
    "        data.append({\"price\": price,\n",
    "                     \"location\":location,\n",
    "                     \"rooms\": rooms,\n",
    "                     \"rating\":rating,\n",
    "                    #  \"host_details\":host_details,\n",
    "                     \"detail_ratings\":detail_ratings,\n",
    "                     \"place_offers\": place_offers})\n",
    "\n",
    "\n"
   ]
  },
  {
   "cell_type": "code",
   "execution_count": 9,
   "metadata": {},
   "outputs": [
    {
     "data": {
      "text/plain": [
       "108"
      ]
     },
     "execution_count": 9,
     "metadata": {},
     "output_type": "execute_result"
    }
   ],
   "source": [
    "len(data)"
   ]
  },
  {
   "cell_type": "code",
   "execution_count": 10,
   "metadata": {},
   "outputs": [],
   "source": [
    "df = pd.DataFrame(data)"
   ]
  },
  {
   "cell_type": "code",
   "execution_count": 11,
   "metadata": {},
   "outputs": [
    {
     "data": {
      "text/html": [
       "<div>\n",
       "<style scoped>\n",
       "    .dataframe tbody tr th:only-of-type {\n",
       "        vertical-align: middle;\n",
       "    }\n",
       "\n",
       "    .dataframe tbody tr th {\n",
       "        vertical-align: top;\n",
       "    }\n",
       "\n",
       "    .dataframe thead th {\n",
       "        text-align: right;\n",
       "    }\n",
       "</style>\n",
       "<table border=\"1\" class=\"dataframe\">\n",
       "  <thead>\n",
       "    <tr style=\"text-align: right;\">\n",
       "      <th></th>\n",
       "      <th>price</th>\n",
       "      <th>location</th>\n",
       "      <th>rooms</th>\n",
       "      <th>rating</th>\n",
       "      <th>detail_ratings</th>\n",
       "      <th>place_offers</th>\n",
       "    </tr>\n",
       "  </thead>\n",
       "  <tbody>\n",
       "    <tr>\n",
       "      <th>0</th>\n",
       "      <td>€ 117</td>\n",
       "      <td>Agios Pavlos, Greece</td>\n",
       "      <td>3 guests ·  · 1 bedroom ·  · 1 bed ·  · 1 bath</td>\n",
       "      <td>5.0 ·</td>\n",
       "      <td>[Cleanliness5.0, Accuracy5.0, Communication5.0...</td>\n",
       "      <td>[Bathtub, Hair dryer, Cleaning products, Body ...</td>\n",
       "    </tr>\n",
       "    <tr>\n",
       "      <th>1</th>\n",
       "      <td>€ 100</td>\n",
       "      <td>Thessaloniki, Greece</td>\n",
       "      <td>5 guests ·  · 2 bedrooms ·  · 3 beds ·  · 1 bath</td>\n",
       "      <td>4.97 ·</td>\n",
       "      <td>[Cleanliness5.0, Accuracy5.0, Communication4.9...</td>\n",
       "      <td>[City skyline view, Hair dryer, Free washer – ...</td>\n",
       "    </tr>\n",
       "    <tr>\n",
       "      <th>2</th>\n",
       "      <td>None</td>\n",
       "      <td>Thessaloniki, Greece</td>\n",
       "      <td>4 guests ·  · 1 bedroom ·  · 2 beds ·  · 1 bath</td>\n",
       "      <td>5.0 ·</td>\n",
       "      <td>[Cleanliness5.0, Accuracy5.0, Communication5.0...</td>\n",
       "      <td>[Hair dryer, Shampoo, Hot water, Shower gel, W...</td>\n",
       "    </tr>\n",
       "    <tr>\n",
       "      <th>3</th>\n",
       "      <td>€ 150</td>\n",
       "      <td>Thessaloniki, Greece</td>\n",
       "      <td>4 guests ·  · 2 bedrooms ·  · 2 beds ·  · 2.5 ...</td>\n",
       "      <td>4.94 ·</td>\n",
       "      <td>[Cleanliness4.9, Accuracy4.9, Communication5.0...</td>\n",
       "      <td>[Mountain view, City skyline view, Sea view, H...</td>\n",
       "    </tr>\n",
       "    <tr>\n",
       "      <th>4</th>\n",
       "      <td>€ 203</td>\n",
       "      <td>Thessaloniki, Greece</td>\n",
       "      <td>4 guests ·  · 1 bedroom ·  · 2 beds ·  · 1 bath</td>\n",
       "      <td>None</td>\n",
       "      <td>[]</td>\n",
       "      <td>[Hair dryer, LUX shampoo, LUX body soap, Hot w...</td>\n",
       "    </tr>\n",
       "  </tbody>\n",
       "</table>\n",
       "</div>"
      ],
      "text/plain": [
       "    price              location  \\\n",
       "0  € 117   Agios Pavlos, Greece   \n",
       "1  € 100   Thessaloniki, Greece   \n",
       "2    None  Thessaloniki, Greece   \n",
       "3  € 150   Thessaloniki, Greece   \n",
       "4  € 203   Thessaloniki, Greece   \n",
       "\n",
       "                                               rooms  rating  \\\n",
       "0     3 guests ·  · 1 bedroom ·  · 1 bed ·  · 1 bath   5.0 ·   \n",
       "1   5 guests ·  · 2 bedrooms ·  · 3 beds ·  · 1 bath  4.97 ·   \n",
       "2    4 guests ·  · 1 bedroom ·  · 2 beds ·  · 1 bath   5.0 ·   \n",
       "3  4 guests ·  · 2 bedrooms ·  · 2 beds ·  · 2.5 ...  4.94 ·   \n",
       "4    4 guests ·  · 1 bedroom ·  · 2 beds ·  · 1 bath    None   \n",
       "\n",
       "                                      detail_ratings  \\\n",
       "0  [Cleanliness5.0, Accuracy5.0, Communication5.0...   \n",
       "1  [Cleanliness5.0, Accuracy5.0, Communication4.9...   \n",
       "2  [Cleanliness5.0, Accuracy5.0, Communication5.0...   \n",
       "3  [Cleanliness4.9, Accuracy4.9, Communication5.0...   \n",
       "4                                                 []   \n",
       "\n",
       "                                        place_offers  \n",
       "0  [Bathtub, Hair dryer, Cleaning products, Body ...  \n",
       "1  [City skyline view, Hair dryer, Free washer – ...  \n",
       "2  [Hair dryer, Shampoo, Hot water, Shower gel, W...  \n",
       "3  [Mountain view, City skyline view, Sea view, H...  \n",
       "4  [Hair dryer, LUX shampoo, LUX body soap, Hot w...  "
      ]
     },
     "execution_count": 11,
     "metadata": {},
     "output_type": "execute_result"
    }
   ],
   "source": [
    "df.head()"
   ]
  },
  {
   "cell_type": "code",
   "execution_count": 12,
   "metadata": {},
   "outputs": [],
   "source": [
    "df.to_csv('airbnb_greece.csv',index=False)"
   ]
  },
  {
   "cell_type": "code",
   "execution_count": 13,
   "metadata": {},
   "outputs": [
    {
     "data": {
      "text/plain": [
       "price             24\n",
       "location           0\n",
       "rooms              0\n",
       "rating            14\n",
       "detail_ratings     0\n",
       "place_offers       0\n",
       "dtype: int64"
      ]
     },
     "execution_count": 13,
     "metadata": {},
     "output_type": "execute_result"
    }
   ],
   "source": [
    "df.isna().sum()"
   ]
  },
  {
   "cell_type": "markdown",
   "metadata": {},
   "source": [
    "https://www.airbnb.com/s/Thessaloniki--Greece/homes?tab_id=home_tab&flexible_trip_lengths%5B%5D=one_week&refinement_paths%5B%5D=%2Fhomes&place_id=ChIJ7eAoFPQ4qBQRqXTVuBXnugk&query=Thessaloniki%2C%20Greece&date_picker_type=calendar&search_type=user_map_move&price_filter_input_type=0&ne_lat=40.66256734970964&ne_lng=23.003752862853986&sw_lat=40.59051931897441&sw_lng=22.892087137145978&zoom=13&search_by_map=true&monthly_start_date=2023-09-01&monthly_length=3&price_filter_num_nights=5&channel=EXPLORE&federated_search_session_id=1ed21e1c-0c5e-4529-ab84-267361eac02b&pagination_search=true&cursor=eyJzZWN0aW9uX29mZnNldCI6MCwiaXRlbXNfb2Zmc2V0IjowLCJ2ZXJzaW9uIjoxfQ%3D%3D"
   ]
  },
  {
   "cell_type": "markdown",
   "metadata": {},
   "source": [
    "https://www.airbnb.com/s/Thessaloniki--Greece/homes?tab_id=home_tab&flexible_trip_lengths%5B%5D=one_week&refinement_paths%5B%5D=%2Fhomes&place_id=ChIJ7eAoFPQ4qBQRqXTVuBXnugk&query=Thessaloniki%2C%20Greece&date_picker_type=calendar&search_type=user_map_move&price_filter_input_type=0&ne_lat=40.66256734970964&ne_lng=23.003752862853986&sw_lat=40.59051931897441&sw_lng=22.892087137145978&zoom=13&search_by_map=true&monthly_start_date=2023-09-01&monthly_length=3&price_filter_num_nights=5&channel=EXPLORE&federated_search_session_id=1ed21e1c-0c5e-4529-ab84-267361eac02b&pagination_search=true&cursor=eyJzZWN0aW9uX29mZnNldCI6MywiaXRlbXNfb2Zmc2V0IjoxOCwidmVyc2lvbiI6MX0%3D"
   ]
  }
 ],
 "metadata": {
  "kernelspec": {
   "display_name": "Python 3",
   "language": "python",
   "name": "python3"
  },
  "language_info": {
   "codemirror_mode": {
    "name": "ipython",
    "version": 3
   },
   "file_extension": ".py",
   "mimetype": "text/x-python",
   "name": "python",
   "nbconvert_exporter": "python",
   "pygments_lexer": "ipython3",
   "version": "3.10.12"
  },
  "orig_nbformat": 4
 },
 "nbformat": 4,
 "nbformat_minor": 2
}
